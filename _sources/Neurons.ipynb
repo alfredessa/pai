{
 "cells": [
  {
   "cell_type": "markdown",
   "id": "bedf7fb9",
   "metadata": {},
   "source": [
    "# Neuron"
   ]
  },
  {
   "cell_type": "code",
   "execution_count": 1,
   "id": "2783704a",
   "metadata": {},
   "outputs": [],
   "source": [
    "import numpy as np\n",
    "np.set_printoptions(precision=None, suppress=True)"
   ]
  },
  {
   "cell_type": "code",
   "execution_count": 2,
   "id": "6bcf6759",
   "metadata": {},
   "outputs": [],
   "source": [
    "# define input as x\n",
    "x = np.array([2.3,4.5,1.3])\n",
    "\n",
    "# define weights as w\n",
    "w = np.array([3.2,-1.9,2.5])\n",
    "\n",
    "# define bias\n",
    "b = np.array([-1])"
   ]
  },
  {
   "cell_type": "code",
   "execution_count": 3,
   "id": "5b755e07",
   "metadata": {},
   "outputs": [],
   "source": [
    "# define relu function\n",
    "def relu(z):\n",
    "    return np.maximum(z, 0)\n",
    "\n",
    "# define sigmoid function\n",
    "def sigmoid(z):\n",
    "    return 1.0/(1.0 + np.exp(-z)) "
   ]
  },
  {
   "cell_type": "code",
   "execution_count": 4,
   "id": "876fbc61",
   "metadata": {},
   "outputs": [],
   "source": [
    "# define neuron function\n",
    "def neuron_output(x,weights,bias,phi):\n",
    "    z = np.dot(weights,x.T)+bias\n",
    "    return phi(z)"
   ]
  },
  {
   "cell_type": "markdown",
   "id": "f27edab3",
   "metadata": {},
   "source": [
    "## Neuron with ReLU Activation Function"
   ]
  },
  {
   "cell_type": "code",
   "execution_count": 5,
   "id": "7ffab682",
   "metadata": {},
   "outputs": [
    {
     "data": {
      "text/plain": [
       "array([1.06])"
      ]
     },
     "execution_count": 5,
     "metadata": {},
     "output_type": "execute_result"
    }
   ],
   "source": [
    "neuron_output(x,w,b,relu)"
   ]
  },
  {
   "cell_type": "markdown",
   "id": "b43b697e",
   "metadata": {},
   "source": [
    "## Neuron with Sigmoid Activation Function"
   ]
  },
  {
   "cell_type": "code",
   "execution_count": 6,
   "id": "fe366e1d",
   "metadata": {},
   "outputs": [
    {
     "data": {
      "text/plain": [
       "array([0.74269055])"
      ]
     },
     "execution_count": 6,
     "metadata": {},
     "output_type": "execute_result"
    }
   ],
   "source": [
    "neuron_output(x,w,b,sigmoid)"
   ]
  },
  {
   "cell_type": "markdown",
   "id": "26844831",
   "metadata": {},
   "source": [
    "## Single Neuron, Multiple Training Examples"
   ]
  },
  {
   "cell_type": "code",
   "execution_count": 7,
   "id": "6382dcf0",
   "metadata": {},
   "outputs": [],
   "source": [
    "# define input as X\n",
    "X = np.array([[2.3,4.5,1.3],[-1.1,3.2,-2],[-.2,1.9,3],[-.2,-.1,.4],[-.1,-.3,-.2]])"
   ]
  },
  {
   "cell_type": "code",
   "execution_count": 8,
   "id": "88fc62d5",
   "metadata": {},
   "outputs": [],
   "source": [
    "def neuron_output2(X,weights,bias,phi): \n",
    "    z = np.dot(weights,X.T)+bias\n",
    "    return phi(z)"
   ]
  },
  {
   "cell_type": "code",
   "execution_count": 9,
   "id": "095b5803",
   "metadata": {},
   "outputs": [
    {
     "data": {
      "text/plain": [
       "array([0.74269055, 0.00000017, 0.90465054, 0.38936077, 0.22270014])"
      ]
     },
     "execution_count": 9,
     "metadata": {},
     "output_type": "execute_result"
    }
   ],
   "source": [
    "neuron_output2(X,w,b,sigmoid)"
   ]
  },
  {
   "cell_type": "code",
   "execution_count": 10,
   "id": "ed82c9c9",
   "metadata": {},
   "outputs": [
    {
     "data": {
      "text/plain": [
       "array([[ 2.3, -1.1, -0.2, -0.2, -0.1],\n",
       "       [ 4.5,  3.2,  1.9, -0.1, -0.3],\n",
       "       [ 1.3, -2. ,  3. ,  0.4, -0.2]])"
      ]
     },
     "execution_count": 10,
     "metadata": {},
     "output_type": "execute_result"
    }
   ],
   "source": [
    "X.T"
   ]
  },
  {
   "cell_type": "code",
   "execution_count": 11,
   "id": "2f3d9cd9",
   "metadata": {},
   "outputs": [
    {
     "data": {
      "text/plain": [
       "array([ 3.2, -1.9,  2.5])"
      ]
     },
     "execution_count": 11,
     "metadata": {},
     "output_type": "execute_result"
    }
   ],
   "source": [
    "w"
   ]
  },
  {
   "cell_type": "code",
   "execution_count": 12,
   "id": "c78cd8ac",
   "metadata": {},
   "outputs": [],
   "source": [
    "# create Neuron class\n",
    "class Neuron:\n",
    "    def __init__(self, neuron_input,weights,bias,activation_function):\n",
    "        self.w = weights\n",
    "        self.b = bias\n",
    "        self.X = neuron_input\n",
    "        self.phi = activation_function\n",
    "    def calc_output(self):\n",
    "        z = np.dot(w,X.T) + b\n",
    "        a = self.phi(z)\n",
    "        return a"
   ]
  },
  {
   "cell_type": "markdown",
   "id": "979bb00e",
   "metadata": {},
   "source": [
    "## Neuron with ReLU Activation Function"
   ]
  },
  {
   "cell_type": "code",
   "execution_count": 14,
   "id": "e06776b0",
   "metadata": {},
   "outputs": [
    {
     "data": {
      "text/plain": [
       "array([1.06, 0.  , 2.25, 0.  , 0.  ])"
      ]
     },
     "execution_count": 14,
     "metadata": {},
     "output_type": "execute_result"
    }
   ],
   "source": [
    "# instantiate neuron class and calculate output for relu activation function\n",
    "Neuron_relu = Neuron(X,w,b,relu)\n",
    "Neuron_relu.calc_output()"
   ]
  },
  {
   "cell_type": "markdown",
   "id": "8d9d800d",
   "metadata": {},
   "source": [
    "## Neuron with Sigmoid Activation Function"
   ]
  },
  {
   "cell_type": "code",
   "execution_count": 15,
   "id": "f6e3337a",
   "metadata": {},
   "outputs": [
    {
     "data": {
      "text/plain": [
       "array([0.74269055, 0.00000017, 0.90465054, 0.38936077, 0.22270014])"
      ]
     },
     "execution_count": 15,
     "metadata": {},
     "output_type": "execute_result"
    }
   ],
   "source": [
    "# instantiate neuron class and calculate output for sigmoid activation function\n",
    "Neuron_sigmoid = Neuron(X,w.T,b,sigmoid)\n",
    "Neuron_sigmoid.calc_output()"
   ]
  }
 ],
 "metadata": {
  "kernelspec": {
   "display_name": "Python 3 (ipykernel)",
   "language": "python",
   "name": "python3"
  },
  "language_info": {
   "codemirror_mode": {
    "name": "ipython",
    "version": 3
   },
   "file_extension": ".py",
   "mimetype": "text/x-python",
   "name": "python",
   "nbconvert_exporter": "python",
   "pygments_lexer": "ipython3",
   "version": "3.8.11"
  }
 },
 "nbformat": 4,
 "nbformat_minor": 5
}
